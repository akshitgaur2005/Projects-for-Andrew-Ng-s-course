{
 "cells": [
  {
   "cell_type": "code",
   "execution_count": 43,
   "id": "ec9d40de-fc12-474e-b495-e08becd38c9f",
   "metadata": {},
   "outputs": [],
   "source": [
    "import pandas as pd"
   ]
  },
  {
   "cell_type": "code",
   "execution_count": 44,
   "id": "1e9e9dcb-2a4b-461b-a731-cc97a9bd55ba",
   "metadata": {},
   "outputs": [
    {
     "data": {
      "text/html": [
       "<div>\n",
       "<style scoped>\n",
       "    .dataframe tbody tr th:only-of-type {\n",
       "        vertical-align: middle;\n",
       "    }\n",
       "\n",
       "    .dataframe tbody tr th {\n",
       "        vertical-align: top;\n",
       "    }\n",
       "\n",
       "    .dataframe thead th {\n",
       "        text-align: right;\n",
       "    }\n",
       "</style>\n",
       "<table border=\"1\" class=\"dataframe\">\n",
       "  <thead>\n",
       "    <tr style=\"text-align: right;\">\n",
       "      <th></th>\n",
       "      <th>PassengerId</th>\n",
       "      <th>Survived</th>\n",
       "      <th>Pclass</th>\n",
       "      <th>Name</th>\n",
       "      <th>Sex</th>\n",
       "      <th>Age</th>\n",
       "      <th>SibSp</th>\n",
       "      <th>Parch</th>\n",
       "      <th>Ticket</th>\n",
       "      <th>Fare</th>\n",
       "      <th>Cabin</th>\n",
       "      <th>Embarked</th>\n",
       "    </tr>\n",
       "  </thead>\n",
       "  <tbody>\n",
       "    <tr>\n",
       "      <th>0</th>\n",
       "      <td>1</td>\n",
       "      <td>0</td>\n",
       "      <td>3</td>\n",
       "      <td>Braund, Mr. Owen Harris</td>\n",
       "      <td>male</td>\n",
       "      <td>22.0</td>\n",
       "      <td>1</td>\n",
       "      <td>0</td>\n",
       "      <td>A/5 21171</td>\n",
       "      <td>7.2500</td>\n",
       "      <td>NaN</td>\n",
       "      <td>S</td>\n",
       "    </tr>\n",
       "    <tr>\n",
       "      <th>1</th>\n",
       "      <td>2</td>\n",
       "      <td>1</td>\n",
       "      <td>1</td>\n",
       "      <td>Cumings, Mrs. John Bradley (Florence Briggs Th...</td>\n",
       "      <td>female</td>\n",
       "      <td>38.0</td>\n",
       "      <td>1</td>\n",
       "      <td>0</td>\n",
       "      <td>PC 17599</td>\n",
       "      <td>71.2833</td>\n",
       "      <td>C85</td>\n",
       "      <td>C</td>\n",
       "    </tr>\n",
       "    <tr>\n",
       "      <th>2</th>\n",
       "      <td>3</td>\n",
       "      <td>1</td>\n",
       "      <td>3</td>\n",
       "      <td>Heikkinen, Miss. Laina</td>\n",
       "      <td>female</td>\n",
       "      <td>26.0</td>\n",
       "      <td>0</td>\n",
       "      <td>0</td>\n",
       "      <td>STON/O2. 3101282</td>\n",
       "      <td>7.9250</td>\n",
       "      <td>NaN</td>\n",
       "      <td>S</td>\n",
       "    </tr>\n",
       "    <tr>\n",
       "      <th>3</th>\n",
       "      <td>4</td>\n",
       "      <td>1</td>\n",
       "      <td>1</td>\n",
       "      <td>Futrelle, Mrs. Jacques Heath (Lily May Peel)</td>\n",
       "      <td>female</td>\n",
       "      <td>35.0</td>\n",
       "      <td>1</td>\n",
       "      <td>0</td>\n",
       "      <td>113803</td>\n",
       "      <td>53.1000</td>\n",
       "      <td>C123</td>\n",
       "      <td>S</td>\n",
       "    </tr>\n",
       "    <tr>\n",
       "      <th>4</th>\n",
       "      <td>5</td>\n",
       "      <td>0</td>\n",
       "      <td>3</td>\n",
       "      <td>Allen, Mr. William Henry</td>\n",
       "      <td>male</td>\n",
       "      <td>35.0</td>\n",
       "      <td>0</td>\n",
       "      <td>0</td>\n",
       "      <td>373450</td>\n",
       "      <td>8.0500</td>\n",
       "      <td>NaN</td>\n",
       "      <td>S</td>\n",
       "    </tr>\n",
       "  </tbody>\n",
       "</table>\n",
       "</div>"
      ],
      "text/plain": [
       "   PassengerId  Survived  Pclass  \\\n",
       "0            1         0       3   \n",
       "1            2         1       1   \n",
       "2            3         1       3   \n",
       "3            4         1       1   \n",
       "4            5         0       3   \n",
       "\n",
       "                                                Name     Sex   Age  SibSp  \\\n",
       "0                            Braund, Mr. Owen Harris    male  22.0      1   \n",
       "1  Cumings, Mrs. John Bradley (Florence Briggs Th...  female  38.0      1   \n",
       "2                             Heikkinen, Miss. Laina  female  26.0      0   \n",
       "3       Futrelle, Mrs. Jacques Heath (Lily May Peel)  female  35.0      1   \n",
       "4                           Allen, Mr. William Henry    male  35.0      0   \n",
       "\n",
       "   Parch            Ticket     Fare Cabin Embarked  \n",
       "0      0         A/5 21171   7.2500   NaN        S  \n",
       "1      0          PC 17599  71.2833   C85        C  \n",
       "2      0  STON/O2. 3101282   7.9250   NaN        S  \n",
       "3      0            113803  53.1000  C123        S  \n",
       "4      0            373450   8.0500   NaN        S  "
      ]
     },
     "execution_count": 44,
     "metadata": {},
     "output_type": "execute_result"
    }
   ],
   "source": [
    "train_data = pd.read_csv(\"train.csv\")\n",
    "test_data = pd.read_csv(\"test.csv\")\n",
    "train_data.head()"
   ]
  },
  {
   "cell_type": "code",
   "execution_count": 45,
   "id": "199ba2d1-81d4-43be-b868-0133cac02fc8",
   "metadata": {},
   "outputs": [
    {
     "data": {
      "text/html": [
       "<div>\n",
       "<style scoped>\n",
       "    .dataframe tbody tr th:only-of-type {\n",
       "        vertical-align: middle;\n",
       "    }\n",
       "\n",
       "    .dataframe tbody tr th {\n",
       "        vertical-align: top;\n",
       "    }\n",
       "\n",
       "    .dataframe thead th {\n",
       "        text-align: right;\n",
       "    }\n",
       "</style>\n",
       "<table border=\"1\" class=\"dataframe\">\n",
       "  <thead>\n",
       "    <tr style=\"text-align: right;\">\n",
       "      <th></th>\n",
       "      <th>PassengerId</th>\n",
       "      <th>Pclass</th>\n",
       "      <th>Name</th>\n",
       "      <th>Sex</th>\n",
       "      <th>Age</th>\n",
       "      <th>SibSp</th>\n",
       "      <th>Parch</th>\n",
       "      <th>Ticket</th>\n",
       "      <th>Fare</th>\n",
       "      <th>Cabin</th>\n",
       "      <th>Embarked</th>\n",
       "    </tr>\n",
       "  </thead>\n",
       "  <tbody>\n",
       "    <tr>\n",
       "      <th>0</th>\n",
       "      <td>892</td>\n",
       "      <td>3</td>\n",
       "      <td>Kelly, Mr. James</td>\n",
       "      <td>male</td>\n",
       "      <td>34.5</td>\n",
       "      <td>0</td>\n",
       "      <td>0</td>\n",
       "      <td>330911</td>\n",
       "      <td>7.8292</td>\n",
       "      <td>NaN</td>\n",
       "      <td>Q</td>\n",
       "    </tr>\n",
       "    <tr>\n",
       "      <th>1</th>\n",
       "      <td>893</td>\n",
       "      <td>3</td>\n",
       "      <td>Wilkes, Mrs. James (Ellen Needs)</td>\n",
       "      <td>female</td>\n",
       "      <td>47.0</td>\n",
       "      <td>1</td>\n",
       "      <td>0</td>\n",
       "      <td>363272</td>\n",
       "      <td>7.0000</td>\n",
       "      <td>NaN</td>\n",
       "      <td>S</td>\n",
       "    </tr>\n",
       "    <tr>\n",
       "      <th>2</th>\n",
       "      <td>894</td>\n",
       "      <td>2</td>\n",
       "      <td>Myles, Mr. Thomas Francis</td>\n",
       "      <td>male</td>\n",
       "      <td>62.0</td>\n",
       "      <td>0</td>\n",
       "      <td>0</td>\n",
       "      <td>240276</td>\n",
       "      <td>9.6875</td>\n",
       "      <td>NaN</td>\n",
       "      <td>Q</td>\n",
       "    </tr>\n",
       "    <tr>\n",
       "      <th>3</th>\n",
       "      <td>895</td>\n",
       "      <td>3</td>\n",
       "      <td>Wirz, Mr. Albert</td>\n",
       "      <td>male</td>\n",
       "      <td>27.0</td>\n",
       "      <td>0</td>\n",
       "      <td>0</td>\n",
       "      <td>315154</td>\n",
       "      <td>8.6625</td>\n",
       "      <td>NaN</td>\n",
       "      <td>S</td>\n",
       "    </tr>\n",
       "    <tr>\n",
       "      <th>4</th>\n",
       "      <td>896</td>\n",
       "      <td>3</td>\n",
       "      <td>Hirvonen, Mrs. Alexander (Helga E Lindqvist)</td>\n",
       "      <td>female</td>\n",
       "      <td>22.0</td>\n",
       "      <td>1</td>\n",
       "      <td>1</td>\n",
       "      <td>3101298</td>\n",
       "      <td>12.2875</td>\n",
       "      <td>NaN</td>\n",
       "      <td>S</td>\n",
       "    </tr>\n",
       "  </tbody>\n",
       "</table>\n",
       "</div>"
      ],
      "text/plain": [
       "   PassengerId  Pclass                                          Name     Sex  \\\n",
       "0          892       3                              Kelly, Mr. James    male   \n",
       "1          893       3              Wilkes, Mrs. James (Ellen Needs)  female   \n",
       "2          894       2                     Myles, Mr. Thomas Francis    male   \n",
       "3          895       3                              Wirz, Mr. Albert    male   \n",
       "4          896       3  Hirvonen, Mrs. Alexander (Helga E Lindqvist)  female   \n",
       "\n",
       "    Age  SibSp  Parch   Ticket     Fare Cabin Embarked  \n",
       "0  34.5      0      0   330911   7.8292   NaN        Q  \n",
       "1  47.0      1      0   363272   7.0000   NaN        S  \n",
       "2  62.0      0      0   240276   9.6875   NaN        Q  \n",
       "3  27.0      0      0   315154   8.6625   NaN        S  \n",
       "4  22.0      1      1  3101298  12.2875   NaN        S  "
      ]
     },
     "execution_count": 45,
     "metadata": {},
     "output_type": "execute_result"
    }
   ],
   "source": [
    "test_data.head()"
   ]
  },
  {
   "cell_type": "code",
   "execution_count": 46,
   "id": "795c2bdf-c8cf-4676-b6bf-3c37fddc1465",
   "metadata": {},
   "outputs": [
    {
     "data": {
      "text/html": [
       "<div>\n",
       "<style scoped>\n",
       "    .dataframe tbody tr th:only-of-type {\n",
       "        vertical-align: middle;\n",
       "    }\n",
       "\n",
       "    .dataframe tbody tr th {\n",
       "        vertical-align: top;\n",
       "    }\n",
       "\n",
       "    .dataframe thead th {\n",
       "        text-align: right;\n",
       "    }\n",
       "</style>\n",
       "<table border=\"1\" class=\"dataframe\">\n",
       "  <thead>\n",
       "    <tr style=\"text-align: right;\">\n",
       "      <th></th>\n",
       "      <th>PassengerId</th>\n",
       "      <th>Survived</th>\n",
       "      <th>Pclass</th>\n",
       "      <th>Age</th>\n",
       "      <th>SibSp</th>\n",
       "      <th>Parch</th>\n",
       "      <th>Fare</th>\n",
       "    </tr>\n",
       "  </thead>\n",
       "  <tbody>\n",
       "    <tr>\n",
       "      <th>count</th>\n",
       "      <td>891.000000</td>\n",
       "      <td>891.000000</td>\n",
       "      <td>891.000000</td>\n",
       "      <td>714.000000</td>\n",
       "      <td>891.000000</td>\n",
       "      <td>891.000000</td>\n",
       "      <td>891.000000</td>\n",
       "    </tr>\n",
       "    <tr>\n",
       "      <th>mean</th>\n",
       "      <td>446.000000</td>\n",
       "      <td>0.383838</td>\n",
       "      <td>2.308642</td>\n",
       "      <td>29.699118</td>\n",
       "      <td>0.523008</td>\n",
       "      <td>0.381594</td>\n",
       "      <td>32.204208</td>\n",
       "    </tr>\n",
       "    <tr>\n",
       "      <th>std</th>\n",
       "      <td>257.353842</td>\n",
       "      <td>0.486592</td>\n",
       "      <td>0.836071</td>\n",
       "      <td>14.526497</td>\n",
       "      <td>1.102743</td>\n",
       "      <td>0.806057</td>\n",
       "      <td>49.693429</td>\n",
       "    </tr>\n",
       "    <tr>\n",
       "      <th>min</th>\n",
       "      <td>1.000000</td>\n",
       "      <td>0.000000</td>\n",
       "      <td>1.000000</td>\n",
       "      <td>0.420000</td>\n",
       "      <td>0.000000</td>\n",
       "      <td>0.000000</td>\n",
       "      <td>0.000000</td>\n",
       "    </tr>\n",
       "    <tr>\n",
       "      <th>25%</th>\n",
       "      <td>223.500000</td>\n",
       "      <td>0.000000</td>\n",
       "      <td>2.000000</td>\n",
       "      <td>20.125000</td>\n",
       "      <td>0.000000</td>\n",
       "      <td>0.000000</td>\n",
       "      <td>7.910400</td>\n",
       "    </tr>\n",
       "    <tr>\n",
       "      <th>50%</th>\n",
       "      <td>446.000000</td>\n",
       "      <td>0.000000</td>\n",
       "      <td>3.000000</td>\n",
       "      <td>28.000000</td>\n",
       "      <td>0.000000</td>\n",
       "      <td>0.000000</td>\n",
       "      <td>14.454200</td>\n",
       "    </tr>\n",
       "    <tr>\n",
       "      <th>75%</th>\n",
       "      <td>668.500000</td>\n",
       "      <td>1.000000</td>\n",
       "      <td>3.000000</td>\n",
       "      <td>38.000000</td>\n",
       "      <td>1.000000</td>\n",
       "      <td>0.000000</td>\n",
       "      <td>31.000000</td>\n",
       "    </tr>\n",
       "    <tr>\n",
       "      <th>max</th>\n",
       "      <td>891.000000</td>\n",
       "      <td>1.000000</td>\n",
       "      <td>3.000000</td>\n",
       "      <td>80.000000</td>\n",
       "      <td>8.000000</td>\n",
       "      <td>6.000000</td>\n",
       "      <td>512.329200</td>\n",
       "    </tr>\n",
       "  </tbody>\n",
       "</table>\n",
       "</div>"
      ],
      "text/plain": [
       "       PassengerId    Survived      Pclass         Age       SibSp  \\\n",
       "count   891.000000  891.000000  891.000000  714.000000  891.000000   \n",
       "mean    446.000000    0.383838    2.308642   29.699118    0.523008   \n",
       "std     257.353842    0.486592    0.836071   14.526497    1.102743   \n",
       "min       1.000000    0.000000    1.000000    0.420000    0.000000   \n",
       "25%     223.500000    0.000000    2.000000   20.125000    0.000000   \n",
       "50%     446.000000    0.000000    3.000000   28.000000    0.000000   \n",
       "75%     668.500000    1.000000    3.000000   38.000000    1.000000   \n",
       "max     891.000000    1.000000    3.000000   80.000000    8.000000   \n",
       "\n",
       "            Parch        Fare  \n",
       "count  891.000000  891.000000  \n",
       "mean     0.381594   32.204208  \n",
       "std      0.806057   49.693429  \n",
       "min      0.000000    0.000000  \n",
       "25%      0.000000    7.910400  \n",
       "50%      0.000000   14.454200  \n",
       "75%      0.000000   31.000000  \n",
       "max      6.000000  512.329200  "
      ]
     },
     "execution_count": 46,
     "metadata": {},
     "output_type": "execute_result"
    }
   ],
   "source": [
    "train_data.describe()"
   ]
  },
  {
   "cell_type": "code",
   "execution_count": 47,
   "id": "ae0dc176-b5e6-49a3-8590-ee6f04bc7bf8",
   "metadata": {},
   "outputs": [
    {
     "data": {
      "text/plain": [
       "687"
      ]
     },
     "execution_count": 47,
     "metadata": {},
     "output_type": "execute_result"
    }
   ],
   "source": [
    "train_data['Cabin'].isna().sum()"
   ]
  },
  {
   "cell_type": "code",
   "execution_count": 48,
   "id": "54d36a04-4786-44b7-83f3-f48c28c1d6a2",
   "metadata": {},
   "outputs": [],
   "source": [
    "train_data.drop(['Name', 'Ticket', 'Cabin'], axis=1, inplace=True)\n",
    "test_data.drop(['Name', 'Ticket', 'Cabin'], axis=1, inplace=True)"
   ]
  },
  {
   "cell_type": "code",
   "execution_count": 49,
   "id": "5f3449ae-be97-4db5-a53c-237785989671",
   "metadata": {},
   "outputs": [
    {
     "name": "stdout",
     "output_type": "stream",
     "text": [
      "<class 'pandas.core.frame.DataFrame'>\n",
      "RangeIndex: 891 entries, 0 to 890\n",
      "Data columns (total 9 columns):\n",
      " #   Column       Non-Null Count  Dtype  \n",
      "---  ------       --------------  -----  \n",
      " 0   PassengerId  891 non-null    int64  \n",
      " 1   Survived     891 non-null    int64  \n",
      " 2   Pclass       891 non-null    int64  \n",
      " 3   Sex          891 non-null    object \n",
      " 4   Age          714 non-null    float64\n",
      " 5   SibSp        891 non-null    int64  \n",
      " 6   Parch        891 non-null    int64  \n",
      " 7   Fare         891 non-null    float64\n",
      " 8   Embarked     889 non-null    object \n",
      "dtypes: float64(2), int64(5), object(2)\n",
      "memory usage: 62.8+ KB\n"
     ]
    }
   ],
   "source": [
    "train_data.info()"
   ]
  },
  {
   "cell_type": "code",
   "execution_count": 50,
   "id": "b8fc7b03-c0c7-4061-8e7e-02526796c9b0",
   "metadata": {},
   "outputs": [],
   "source": [
    "train_data['Embarked'].fillna(train_data['Embarked'].mode()[0], inplace=True)\n",
    "test_data['Embarked'].fillna(test_data['Embarked'].mode()[0], inplace=True)"
   ]
  },
  {
   "cell_type": "code",
   "execution_count": 51,
   "id": "01c0edb7-7ef6-4e4c-905f-afde2b00ce40",
   "metadata": {},
   "outputs": [
    {
     "data": {
      "text/plain": [
       "PassengerId      0\n",
       "Survived         0\n",
       "Pclass           0\n",
       "Sex              0\n",
       "Age            177\n",
       "SibSp            0\n",
       "Parch            0\n",
       "Fare             0\n",
       "Embarked         0\n",
       "dtype: int64"
      ]
     },
     "execution_count": 51,
     "metadata": {},
     "output_type": "execute_result"
    }
   ],
   "source": [
    "train_data.isna().sum()"
   ]
  },
  {
   "cell_type": "code",
   "execution_count": 52,
   "id": "e14cf67f-a565-41e8-a5b7-469fafa08e4f",
   "metadata": {},
   "outputs": [],
   "source": [
    "train_data['Age'].fillna(train_data['Age'].mean(), inplace=True)\n",
    "test_data['Age'].fillna(test_data['Age'].mean(), inplace=True)"
   ]
  },
  {
   "cell_type": "code",
   "execution_count": 53,
   "id": "5b69eba4-278b-459c-aa8b-25a7caef501b",
   "metadata": {},
   "outputs": [
    {
     "data": {
      "text/plain": [
       "PassengerId    0\n",
       "Survived       0\n",
       "Pclass         0\n",
       "Sex            0\n",
       "Age            0\n",
       "SibSp          0\n",
       "Parch          0\n",
       "Fare           0\n",
       "Embarked       0\n",
       "dtype: int64"
      ]
     },
     "execution_count": 53,
     "metadata": {},
     "output_type": "execute_result"
    }
   ],
   "source": [
    "train_data.isna().sum()"
   ]
  },
  {
   "cell_type": "code",
   "execution_count": 54,
   "id": "0febeaf2-27a4-49f0-afe7-fbb41635f6d9",
   "metadata": {},
   "outputs": [],
   "source": [
    "train_data['Sex'] = train_data['Sex'].apply(\n",
    "    lambda x: 1 if x == 'male' else 0\n",
    ")\n",
    "test_data['Sex'] = test_data['Sex'].apply(\n",
    "    lambda x: 1 if x == 'male' else 0\n",
    ")"
   ]
  },
  {
   "cell_type": "code",
   "execution_count": 58,
   "id": "82d1dded-db6f-4b84-a9ad-43d130529b3f",
   "metadata": {},
   "outputs": [],
   "source": [
    "train_data = pd.get_dummies(train_data, dtype=int)\n",
    "test_data = pd.get_dummies(test_data, dtype=int)"
   ]
  },
  {
   "cell_type": "raw",
   "id": "f1ba327e-921f-46a3-8954-af24b3098caf",
   "metadata": {},
   "source": []
  },
  {
   "cell_type": "code",
   "execution_count": 72,
   "id": "36a954ab-2bc0-4010-9432-8e2999040f9d",
   "metadata": {},
   "outputs": [
    {
     "data": {
      "text/html": [
       "<div>\n",
       "<style scoped>\n",
       "    .dataframe tbody tr th:only-of-type {\n",
       "        vertical-align: middle;\n",
       "    }\n",
       "\n",
       "    .dataframe tbody tr th {\n",
       "        vertical-align: top;\n",
       "    }\n",
       "\n",
       "    .dataframe thead th {\n",
       "        text-align: right;\n",
       "    }\n",
       "</style>\n",
       "<table border=\"1\" class=\"dataframe\">\n",
       "  <thead>\n",
       "    <tr style=\"text-align: right;\">\n",
       "      <th></th>\n",
       "      <th>PassengerId</th>\n",
       "      <th>Pclass</th>\n",
       "      <th>Sex</th>\n",
       "      <th>Age</th>\n",
       "      <th>SibSp</th>\n",
       "      <th>Parch</th>\n",
       "      <th>Fare</th>\n",
       "      <th>Embarked_C</th>\n",
       "      <th>Embarked_Q</th>\n",
       "      <th>Embarked_S</th>\n",
       "      <th>tot_rels</th>\n",
       "    </tr>\n",
       "  </thead>\n",
       "  <tbody>\n",
       "    <tr>\n",
       "      <th>0</th>\n",
       "      <td>892</td>\n",
       "      <td>3</td>\n",
       "      <td>1</td>\n",
       "      <td>34.5</td>\n",
       "      <td>0</td>\n",
       "      <td>0</td>\n",
       "      <td>7.8292</td>\n",
       "      <td>0</td>\n",
       "      <td>1</td>\n",
       "      <td>0</td>\n",
       "      <td>0</td>\n",
       "    </tr>\n",
       "    <tr>\n",
       "      <th>1</th>\n",
       "      <td>893</td>\n",
       "      <td>3</td>\n",
       "      <td>0</td>\n",
       "      <td>47.0</td>\n",
       "      <td>1</td>\n",
       "      <td>0</td>\n",
       "      <td>7.0000</td>\n",
       "      <td>0</td>\n",
       "      <td>0</td>\n",
       "      <td>1</td>\n",
       "      <td>1</td>\n",
       "    </tr>\n",
       "    <tr>\n",
       "      <th>2</th>\n",
       "      <td>894</td>\n",
       "      <td>2</td>\n",
       "      <td>1</td>\n",
       "      <td>62.0</td>\n",
       "      <td>0</td>\n",
       "      <td>0</td>\n",
       "      <td>9.6875</td>\n",
       "      <td>0</td>\n",
       "      <td>1</td>\n",
       "      <td>0</td>\n",
       "      <td>0</td>\n",
       "    </tr>\n",
       "    <tr>\n",
       "      <th>3</th>\n",
       "      <td>895</td>\n",
       "      <td>3</td>\n",
       "      <td>1</td>\n",
       "      <td>27.0</td>\n",
       "      <td>0</td>\n",
       "      <td>0</td>\n",
       "      <td>8.6625</td>\n",
       "      <td>0</td>\n",
       "      <td>0</td>\n",
       "      <td>1</td>\n",
       "      <td>0</td>\n",
       "    </tr>\n",
       "    <tr>\n",
       "      <th>4</th>\n",
       "      <td>896</td>\n",
       "      <td>3</td>\n",
       "      <td>0</td>\n",
       "      <td>22.0</td>\n",
       "      <td>1</td>\n",
       "      <td>1</td>\n",
       "      <td>12.2875</td>\n",
       "      <td>0</td>\n",
       "      <td>0</td>\n",
       "      <td>1</td>\n",
       "      <td>2</td>\n",
       "    </tr>\n",
       "  </tbody>\n",
       "</table>\n",
       "</div>"
      ],
      "text/plain": [
       "   PassengerId  Pclass  Sex   Age  SibSp  Parch     Fare  Embarked_C  \\\n",
       "0          892       3    1  34.5      0      0   7.8292           0   \n",
       "1          893       3    0  47.0      1      0   7.0000           0   \n",
       "2          894       2    1  62.0      0      0   9.6875           0   \n",
       "3          895       3    1  27.0      0      0   8.6625           0   \n",
       "4          896       3    0  22.0      1      1  12.2875           0   \n",
       "\n",
       "   Embarked_Q  Embarked_S  tot_rels  \n",
       "0           1           0         0  \n",
       "1           0           1         1  \n",
       "2           1           0         0  \n",
       "3           0           1         0  \n",
       "4           0           1         2  "
      ]
     },
     "execution_count": 72,
     "metadata": {},
     "output_type": "execute_result"
    }
   ],
   "source": [
    "test_data.head()"
   ]
  },
  {
   "cell_type": "code",
   "execution_count": 60,
   "id": "dd7cef1f-f69a-4fbb-ae7b-afe8d98e2b4b",
   "metadata": {},
   "outputs": [],
   "source": [
    "train_data['tot_rels'] = train_data['SibSp'] + train_data['Parch']\n",
    "test_data['tot_rels'] = test_data['SibSp'] + test_data['Parch']"
   ]
  },
  {
   "cell_type": "code",
   "execution_count": 71,
   "id": "6ed74d59-fe67-4390-a7df-f2e01ea8f4ab",
   "metadata": {},
   "outputs": [
    {
     "data": {
      "text/html": [
       "<div>\n",
       "<style scoped>\n",
       "    .dataframe tbody tr th:only-of-type {\n",
       "        vertical-align: middle;\n",
       "    }\n",
       "\n",
       "    .dataframe tbody tr th {\n",
       "        vertical-align: top;\n",
       "    }\n",
       "\n",
       "    .dataframe thead th {\n",
       "        text-align: right;\n",
       "    }\n",
       "</style>\n",
       "<table border=\"1\" class=\"dataframe\">\n",
       "  <thead>\n",
       "    <tr style=\"text-align: right;\">\n",
       "      <th></th>\n",
       "      <th>PassengerId</th>\n",
       "      <th>Survived</th>\n",
       "      <th>Pclass</th>\n",
       "      <th>Sex</th>\n",
       "      <th>Age</th>\n",
       "      <th>SibSp</th>\n",
       "      <th>Parch</th>\n",
       "      <th>Fare</th>\n",
       "      <th>Embarked_C</th>\n",
       "      <th>Embarked_Q</th>\n",
       "      <th>Embarked_S</th>\n",
       "      <th>tot_rels</th>\n",
       "    </tr>\n",
       "  </thead>\n",
       "  <tbody>\n",
       "    <tr>\n",
       "      <th>0</th>\n",
       "      <td>1</td>\n",
       "      <td>0</td>\n",
       "      <td>3</td>\n",
       "      <td>1</td>\n",
       "      <td>22.0</td>\n",
       "      <td>1</td>\n",
       "      <td>0</td>\n",
       "      <td>7.2500</td>\n",
       "      <td>0</td>\n",
       "      <td>0</td>\n",
       "      <td>1</td>\n",
       "      <td>1</td>\n",
       "    </tr>\n",
       "    <tr>\n",
       "      <th>1</th>\n",
       "      <td>2</td>\n",
       "      <td>1</td>\n",
       "      <td>1</td>\n",
       "      <td>0</td>\n",
       "      <td>38.0</td>\n",
       "      <td>1</td>\n",
       "      <td>0</td>\n",
       "      <td>71.2833</td>\n",
       "      <td>1</td>\n",
       "      <td>0</td>\n",
       "      <td>0</td>\n",
       "      <td>1</td>\n",
       "    </tr>\n",
       "    <tr>\n",
       "      <th>2</th>\n",
       "      <td>3</td>\n",
       "      <td>1</td>\n",
       "      <td>3</td>\n",
       "      <td>0</td>\n",
       "      <td>26.0</td>\n",
       "      <td>0</td>\n",
       "      <td>0</td>\n",
       "      <td>7.9250</td>\n",
       "      <td>0</td>\n",
       "      <td>0</td>\n",
       "      <td>1</td>\n",
       "      <td>0</td>\n",
       "    </tr>\n",
       "    <tr>\n",
       "      <th>3</th>\n",
       "      <td>4</td>\n",
       "      <td>1</td>\n",
       "      <td>1</td>\n",
       "      <td>0</td>\n",
       "      <td>35.0</td>\n",
       "      <td>1</td>\n",
       "      <td>0</td>\n",
       "      <td>53.1000</td>\n",
       "      <td>0</td>\n",
       "      <td>0</td>\n",
       "      <td>1</td>\n",
       "      <td>1</td>\n",
       "    </tr>\n",
       "    <tr>\n",
       "      <th>4</th>\n",
       "      <td>5</td>\n",
       "      <td>0</td>\n",
       "      <td>3</td>\n",
       "      <td>1</td>\n",
       "      <td>35.0</td>\n",
       "      <td>0</td>\n",
       "      <td>0</td>\n",
       "      <td>8.0500</td>\n",
       "      <td>0</td>\n",
       "      <td>0</td>\n",
       "      <td>1</td>\n",
       "      <td>0</td>\n",
       "    </tr>\n",
       "  </tbody>\n",
       "</table>\n",
       "</div>"
      ],
      "text/plain": [
       "   PassengerId  Survived  Pclass  Sex   Age  SibSp  Parch     Fare  \\\n",
       "0            1         0       3    1  22.0      1      0   7.2500   \n",
       "1            2         1       1    0  38.0      1      0  71.2833   \n",
       "2            3         1       3    0  26.0      0      0   7.9250   \n",
       "3            4         1       1    0  35.0      1      0  53.1000   \n",
       "4            5         0       3    1  35.0      0      0   8.0500   \n",
       "\n",
       "   Embarked_C  Embarked_Q  Embarked_S  tot_rels  \n",
       "0           0           0           1         1  \n",
       "1           1           0           0         1  \n",
       "2           0           0           1         0  \n",
       "3           0           0           1         1  \n",
       "4           0           0           1         0  "
      ]
     },
     "execution_count": 71,
     "metadata": {},
     "output_type": "execute_result"
    }
   ],
   "source": [
    "train_data.head()"
   ]
  },
  {
   "cell_type": "code",
   "execution_count": 62,
   "id": "4492ecf1-96d9-458f-a90c-759b577845de",
   "metadata": {},
   "outputs": [],
   "source": [
    "import numpy as np"
   ]
  },
  {
   "cell_type": "code",
   "execution_count": 63,
   "id": "59806e54-decf-4d12-bf42-451cb8a2de4a",
   "metadata": {},
   "outputs": [],
   "source": [
    "X = np.array(train_data.drop(columns=['PassengerId','Survived'], axis=1))\n",
    "y = np.array(train_data['Survived'])"
   ]
  },
  {
   "cell_type": "code",
   "execution_count": 66,
   "id": "02472bae-11da-4a60-9f93-a300b3d8102a",
   "metadata": {},
   "outputs": [],
   "source": [
    "from sklearn.model_selection import train_test_split"
   ]
  },
  {
   "cell_type": "code",
   "execution_count": 67,
   "id": "400d2066-a382-4a37-8bed-011faf996b34",
   "metadata": {},
   "outputs": [],
   "source": [
    "X_train, X_val, y_train, y_val = train_test_split(X, y, test_size=0.2, random_state=2)"
   ]
  },
  {
   "cell_type": "code",
   "execution_count": 86,
   "id": "434607c2-de92-4176-b526-8352f6ec1850",
   "metadata": {},
   "outputs": [],
   "source": [
    "X_test = np.array(test_data.drop(columns=['PassengerId'], axis=1))"
   ]
  },
  {
   "cell_type": "code",
   "execution_count": 88,
   "id": "4fa58c64-0e4c-4b5f-a4a9-b98b4525838b",
   "metadata": {},
   "outputs": [
    {
     "data": {
      "text/plain": [
       "(712, 10)"
      ]
     },
     "execution_count": 88,
     "metadata": {},
     "output_type": "execute_result"
    }
   ],
   "source": [
    "X_test.shape\n",
    "X_train.shape"
   ]
  },
  {
   "cell_type": "code",
   "execution_count": 73,
   "id": "71b77e03-9297-47f7-8562-650fd19a7715",
   "metadata": {},
   "outputs": [
    {
     "name": "stderr",
     "output_type": "stream",
     "text": [
      "2024-02-15 13:42:11.893965: I tensorflow/core/platform/cpu_feature_guard.cc:193] This TensorFlow binary is optimized with oneAPI Deep Neural Network Library (oneDNN) to use the following CPU instructions in performance-critical operations:  SSE4.1 SSE4.2 AVX AVX2 FMA\n",
      "To enable them in other operations, rebuild TensorFlow with the appropriate compiler flags.\n"
     ]
    }
   ],
   "source": [
    "import keras\n",
    "from keras.layers import Dense"
   ]
  },
  {
   "cell_type": "code",
   "execution_count": 237,
   "id": "79aa3d3e-8fca-43b1-a156-e455c7b2e639",
   "metadata": {},
   "outputs": [],
   "source": [
    "model = keras.Sequential(\n",
    "    [\n",
    "        keras.Input(shape = (10,)),\n",
    "        Dense(512, activation='sigmoid', name='layer_1'),\n",
    "        Dense(512, activation='sigmoid', name='layer_2'),\n",
    "        Dense(1, activation='sigmoid', name='layer_3')\n",
    "    ]\n",
    ")"
   ]
  },
  {
   "cell_type": "code",
   "execution_count": 238,
   "id": "aa2ce46b-6e4d-4660-92c7-d1efef18d51e",
   "metadata": {},
   "outputs": [
    {
     "name": "stdout",
     "output_type": "stream",
     "text": [
      "Model: \"sequential_17\"\n",
      "_________________________________________________________________\n",
      " Layer (type)                Output Shape              Param #   \n",
      "=================================================================\n",
      " layer_1 (Dense)             (None, 512)               5632      \n",
      "                                                                 \n",
      " layer_2 (Dense)             (None, 512)               262656    \n",
      "                                                                 \n",
      " layer_3 (Dense)             (None, 1)                 513       \n",
      "                                                                 \n",
      "=================================================================\n",
      "Total params: 268,801\n",
      "Trainable params: 268,801\n",
      "Non-trainable params: 0\n",
      "_________________________________________________________________\n"
     ]
    }
   ],
   "source": [
    "model.summary()"
   ]
  },
  {
   "cell_type": "code",
   "execution_count": 224,
   "id": "6775cedd-ab16-42b2-807d-a77bb444b27c",
   "metadata": {},
   "outputs": [],
   "source": [
    "bc = keras.losses.BinaryCrossentropy(\n",
    "        from_logits=False,\n",
    "        label_smoothing=0.0,\n",
    "        axis=-1,\n",
    "        reduction=\"sum_over_batch_size\",\n",
    "        name=\"binary_crossentropy\",\n",
    ")"
   ]
  },
  {
   "cell_type": "code",
   "execution_count": 225,
   "id": "f94b1dac-bcc2-44fc-bd7e-5f91357c2aa3",
   "metadata": {},
   "outputs": [],
   "source": [
    "callback = keras.callbacks.EarlyStopping(\n",
    "    monitor=\"val_loss\",\n",
    "    min_delta=0,\n",
    "    patience=15,\n",
    "    verbose=0,\n",
    "    mode=\"auto\",\n",
    "    baseline=None,\n",
    "    restore_best_weights=True,\n",
    "    start_from_epoch=0,\n",
    ")"
   ]
  },
  {
   "cell_type": "code",
   "execution_count": 239,
   "id": "1a46f320-15f6-47b7-b20b-62b56276cfed",
   "metadata": {},
   "outputs": [],
   "source": [
    "model.compile(loss=bc, optimizer='adam', metrics=[keras.metrics.BinaryAccuracy()])"
   ]
  },
  {
   "cell_type": "code",
   "execution_count": 240,
   "id": "73905c20-77ff-4a25-b4b6-12ad64033aa6",
   "metadata": {},
   "outputs": [
    {
     "name": "stdout",
     "output_type": "stream",
     "text": [
      "Epoch 1/200\n",
      "23/23 [==============================] - 1s 17ms/step - loss: 0.6153 - binary_accuracy: 0.6798 - val_loss: 0.6240 - val_binary_accuracy: 0.6648\n",
      "Epoch 2/200\n",
      "23/23 [==============================] - 0s 11ms/step - loss: 0.6010 - binary_accuracy: 0.6910 - val_loss: 0.6452 - val_binary_accuracy: 0.6816\n",
      "Epoch 3/200\n",
      "23/23 [==============================] - 0s 11ms/step - loss: 0.5886 - binary_accuracy: 0.6994 - val_loss: 0.6388 - val_binary_accuracy: 0.6872\n",
      "Epoch 4/200\n",
      "23/23 [==============================] - 0s 10ms/step - loss: 0.5666 - binary_accuracy: 0.7275 - val_loss: 0.6588 - val_binary_accuracy: 0.6872\n",
      "Epoch 5/200\n",
      "23/23 [==============================] - 0s 11ms/step - loss: 0.5469 - binary_accuracy: 0.7135 - val_loss: 0.5776 - val_binary_accuracy: 0.7151\n",
      "Epoch 6/200\n",
      "23/23 [==============================] - 0s 11ms/step - loss: 0.5482 - binary_accuracy: 0.7303 - val_loss: 0.8841 - val_binary_accuracy: 0.5587\n",
      "Epoch 7/200\n",
      "23/23 [==============================] - 0s 10ms/step - loss: 0.5463 - binary_accuracy: 0.7149 - val_loss: 0.5540 - val_binary_accuracy: 0.7598\n",
      "Epoch 8/200\n",
      "23/23 [==============================] - 0s 10ms/step - loss: 0.5024 - binary_accuracy: 0.7472 - val_loss: 0.6028 - val_binary_accuracy: 0.6648\n",
      "Epoch 9/200\n",
      "23/23 [==============================] - 0s 9ms/step - loss: 0.4973 - binary_accuracy: 0.7444 - val_loss: 0.6162 - val_binary_accuracy: 0.6816\n",
      "Epoch 10/200\n",
      "23/23 [==============================] - 0s 9ms/step - loss: 0.4901 - binary_accuracy: 0.7669 - val_loss: 0.5955 - val_binary_accuracy: 0.6816\n",
      "Epoch 11/200\n",
      "23/23 [==============================] - 0s 11ms/step - loss: 0.4716 - binary_accuracy: 0.7753 - val_loss: 0.5412 - val_binary_accuracy: 0.7654\n",
      "Epoch 12/200\n",
      "23/23 [==============================] - 0s 9ms/step - loss: 0.4625 - binary_accuracy: 0.7823 - val_loss: 0.5204 - val_binary_accuracy: 0.7989\n",
      "Epoch 13/200\n",
      "23/23 [==============================] - 0s 11ms/step - loss: 0.4724 - binary_accuracy: 0.7795 - val_loss: 0.5173 - val_binary_accuracy: 0.7877\n",
      "Epoch 14/200\n",
      "23/23 [==============================] - 0s 8ms/step - loss: 0.4451 - binary_accuracy: 0.7963 - val_loss: 0.5153 - val_binary_accuracy: 0.7821\n",
      "Epoch 15/200\n",
      "23/23 [==============================] - 0s 10ms/step - loss: 0.4589 - binary_accuracy: 0.7879 - val_loss: 0.6831 - val_binary_accuracy: 0.6592\n",
      "Epoch 16/200\n",
      "23/23 [==============================] - 0s 9ms/step - loss: 0.4984 - binary_accuracy: 0.7528 - val_loss: 0.6845 - val_binary_accuracy: 0.6592\n",
      "Epoch 17/200\n",
      "23/23 [==============================] - 0s 11ms/step - loss: 0.4944 - binary_accuracy: 0.7865 - val_loss: 0.5355 - val_binary_accuracy: 0.7821\n",
      "Epoch 18/200\n",
      "23/23 [==============================] - 0s 13ms/step - loss: 0.4599 - binary_accuracy: 0.7795 - val_loss: 0.5255 - val_binary_accuracy: 0.7709\n",
      "Epoch 19/200\n",
      "23/23 [==============================] - 0s 11ms/step - loss: 0.4396 - binary_accuracy: 0.8020 - val_loss: 0.5257 - val_binary_accuracy: 0.7709\n",
      "Epoch 20/200\n",
      "23/23 [==============================] - 0s 10ms/step - loss: 0.4305 - binary_accuracy: 0.8202 - val_loss: 0.5450 - val_binary_accuracy: 0.7542\n",
      "Epoch 21/200\n",
      "23/23 [==============================] - 0s 10ms/step - loss: 0.4273 - binary_accuracy: 0.8062 - val_loss: 0.5079 - val_binary_accuracy: 0.7654\n",
      "Epoch 22/200\n",
      "23/23 [==============================] - 0s 10ms/step - loss: 0.4208 - binary_accuracy: 0.8244 - val_loss: 0.5490 - val_binary_accuracy: 0.7709\n",
      "Epoch 23/200\n",
      "23/23 [==============================] - 0s 9ms/step - loss: 0.4394 - binary_accuracy: 0.8006 - val_loss: 0.5268 - val_binary_accuracy: 0.7709\n",
      "Epoch 24/200\n",
      "23/23 [==============================] - 0s 11ms/step - loss: 0.4544 - binary_accuracy: 0.7963 - val_loss: 0.5982 - val_binary_accuracy: 0.7430\n",
      "Epoch 25/200\n",
      "23/23 [==============================] - 0s 11ms/step - loss: 0.4258 - binary_accuracy: 0.8104 - val_loss: 0.5615 - val_binary_accuracy: 0.7821\n",
      "Epoch 26/200\n",
      "23/23 [==============================] - 0s 9ms/step - loss: 0.4522 - binary_accuracy: 0.7992 - val_loss: 0.5413 - val_binary_accuracy: 0.7933\n",
      "Epoch 27/200\n",
      "23/23 [==============================] - 0s 9ms/step - loss: 0.4453 - binary_accuracy: 0.7992 - val_loss: 0.5643 - val_binary_accuracy: 0.7542\n",
      "Epoch 28/200\n",
      "23/23 [==============================] - 0s 10ms/step - loss: 0.4205 - binary_accuracy: 0.8174 - val_loss: 0.5356 - val_binary_accuracy: 0.7821\n",
      "Epoch 29/200\n",
      "23/23 [==============================] - 0s 10ms/step - loss: 0.4216 - binary_accuracy: 0.8202 - val_loss: 0.5053 - val_binary_accuracy: 0.7598\n",
      "Epoch 30/200\n",
      "23/23 [==============================] - 0s 12ms/step - loss: 0.4370 - binary_accuracy: 0.8020 - val_loss: 0.5379 - val_binary_accuracy: 0.7709\n",
      "Epoch 31/200\n",
      "23/23 [==============================] - 0s 10ms/step - loss: 0.4068 - binary_accuracy: 0.8287 - val_loss: 0.5001 - val_binary_accuracy: 0.7989\n",
      "Epoch 32/200\n",
      "23/23 [==============================] - 0s 10ms/step - loss: 0.4394 - binary_accuracy: 0.8118 - val_loss: 0.5493 - val_binary_accuracy: 0.7654\n",
      "Epoch 33/200\n",
      "23/23 [==============================] - 0s 8ms/step - loss: 0.4196 - binary_accuracy: 0.8160 - val_loss: 0.5019 - val_binary_accuracy: 0.7542\n",
      "Epoch 34/200\n",
      "23/23 [==============================] - 0s 12ms/step - loss: 0.4114 - binary_accuracy: 0.8230 - val_loss: 0.5162 - val_binary_accuracy: 0.7709\n",
      "Epoch 35/200\n",
      "23/23 [==============================] - 0s 12ms/step - loss: 0.4036 - binary_accuracy: 0.8258 - val_loss: 0.5764 - val_binary_accuracy: 0.7542\n",
      "Epoch 36/200\n",
      "23/23 [==============================] - 0s 10ms/step - loss: 0.4173 - binary_accuracy: 0.8174 - val_loss: 0.5293 - val_binary_accuracy: 0.7877\n",
      "Epoch 37/200\n",
      "23/23 [==============================] - 0s 9ms/step - loss: 0.4020 - binary_accuracy: 0.8272 - val_loss: 0.4962 - val_binary_accuracy: 0.7654\n",
      "Epoch 38/200\n",
      "23/23 [==============================] - 0s 11ms/step - loss: 0.4110 - binary_accuracy: 0.8174 - val_loss: 0.5204 - val_binary_accuracy: 0.7709\n",
      "Epoch 39/200\n",
      "23/23 [==============================] - 0s 10ms/step - loss: 0.4186 - binary_accuracy: 0.8104 - val_loss: 0.5748 - val_binary_accuracy: 0.7542\n",
      "Epoch 40/200\n",
      "23/23 [==============================] - 0s 9ms/step - loss: 0.4325 - binary_accuracy: 0.8160 - val_loss: 0.5112 - val_binary_accuracy: 0.7709\n",
      "Epoch 41/200\n",
      "23/23 [==============================] - 0s 10ms/step - loss: 0.4125 - binary_accuracy: 0.8174 - val_loss: 0.5196 - val_binary_accuracy: 0.7654\n",
      "Epoch 42/200\n",
      "23/23 [==============================] - 0s 9ms/step - loss: 0.4099 - binary_accuracy: 0.8188 - val_loss: 0.5036 - val_binary_accuracy: 0.7709\n",
      "Epoch 43/200\n",
      "23/23 [==============================] - 0s 10ms/step - loss: 0.4075 - binary_accuracy: 0.8188 - val_loss: 0.5512 - val_binary_accuracy: 0.7765\n",
      "Epoch 44/200\n",
      "23/23 [==============================] - 0s 10ms/step - loss: 0.4042 - binary_accuracy: 0.8188 - val_loss: 0.5960 - val_binary_accuracy: 0.7486\n",
      "Epoch 45/200\n",
      "23/23 [==============================] - 0s 9ms/step - loss: 0.4348 - binary_accuracy: 0.8076 - val_loss: 0.5034 - val_binary_accuracy: 0.7765\n",
      "Epoch 46/200\n",
      "23/23 [==============================] - 0s 10ms/step - loss: 0.4042 - binary_accuracy: 0.8258 - val_loss: 0.4980 - val_binary_accuracy: 0.7821\n",
      "Epoch 47/200\n",
      "23/23 [==============================] - 0s 10ms/step - loss: 0.4131 - binary_accuracy: 0.8174 - val_loss: 0.5151 - val_binary_accuracy: 0.7765\n",
      "Epoch 48/200\n",
      "23/23 [==============================] - 0s 9ms/step - loss: 0.4260 - binary_accuracy: 0.8132 - val_loss: 0.5451 - val_binary_accuracy: 0.7765\n",
      "Epoch 49/200\n",
      "23/23 [==============================] - 0s 9ms/step - loss: 0.4081 - binary_accuracy: 0.8399 - val_loss: 0.5349 - val_binary_accuracy: 0.7654\n",
      "Epoch 50/200\n",
      "23/23 [==============================] - 0s 10ms/step - loss: 0.4019 - binary_accuracy: 0.8216 - val_loss: 0.5349 - val_binary_accuracy: 0.7709\n",
      "Epoch 51/200\n",
      "23/23 [==============================] - 0s 10ms/step - loss: 0.4139 - binary_accuracy: 0.8090 - val_loss: 0.5502 - val_binary_accuracy: 0.7821\n",
      "Epoch 52/200\n",
      "23/23 [==============================] - 0s 10ms/step - loss: 0.4078 - binary_accuracy: 0.8230 - val_loss: 0.4942 - val_binary_accuracy: 0.7821\n",
      "Epoch 53/200\n",
      "23/23 [==============================] - 0s 11ms/step - loss: 0.4095 - binary_accuracy: 0.8230 - val_loss: 0.5011 - val_binary_accuracy: 0.7821\n",
      "Epoch 54/200\n",
      "23/23 [==============================] - 0s 10ms/step - loss: 0.4055 - binary_accuracy: 0.8287 - val_loss: 0.5970 - val_binary_accuracy: 0.7430\n",
      "Epoch 55/200\n",
      "23/23 [==============================] - 0s 9ms/step - loss: 0.3985 - binary_accuracy: 0.8329 - val_loss: 0.5080 - val_binary_accuracy: 0.7765\n",
      "Epoch 56/200\n",
      "23/23 [==============================] - 0s 8ms/step - loss: 0.4063 - binary_accuracy: 0.8230 - val_loss: 0.5048 - val_binary_accuracy: 0.7709\n",
      "Epoch 57/200\n",
      "23/23 [==============================] - 0s 12ms/step - loss: 0.4070 - binary_accuracy: 0.8244 - val_loss: 0.5261 - val_binary_accuracy: 0.7877\n",
      "Epoch 58/200\n",
      "23/23 [==============================] - 0s 10ms/step - loss: 0.3931 - binary_accuracy: 0.8329 - val_loss: 0.5480 - val_binary_accuracy: 0.7765\n",
      "Epoch 59/200\n",
      "23/23 [==============================] - 0s 9ms/step - loss: 0.3983 - binary_accuracy: 0.8118 - val_loss: 0.4954 - val_binary_accuracy: 0.7765\n",
      "Epoch 60/200\n",
      "23/23 [==============================] - 0s 8ms/step - loss: 0.4066 - binary_accuracy: 0.8104 - val_loss: 0.5725 - val_binary_accuracy: 0.7598\n",
      "Epoch 61/200\n",
      "23/23 [==============================] - 0s 10ms/step - loss: 0.4060 - binary_accuracy: 0.8315 - val_loss: 0.5014 - val_binary_accuracy: 0.7877\n",
      "Epoch 62/200\n",
      "23/23 [==============================] - 0s 10ms/step - loss: 0.4184 - binary_accuracy: 0.8118 - val_loss: 0.5813 - val_binary_accuracy: 0.7486\n",
      "Epoch 63/200\n",
      "23/23 [==============================] - 0s 10ms/step - loss: 0.4174 - binary_accuracy: 0.8174 - val_loss: 0.5657 - val_binary_accuracy: 0.7542\n",
      "Epoch 64/200\n",
      "23/23 [==============================] - 0s 10ms/step - loss: 0.3994 - binary_accuracy: 0.8216 - val_loss: 0.5081 - val_binary_accuracy: 0.7877\n",
      "Epoch 65/200\n",
      "23/23 [==============================] - 0s 10ms/step - loss: 0.3907 - binary_accuracy: 0.8469 - val_loss: 0.4971 - val_binary_accuracy: 0.7821\n",
      "Epoch 66/200\n",
      "23/23 [==============================] - 0s 9ms/step - loss: 0.4050 - binary_accuracy: 0.8244 - val_loss: 0.4967 - val_binary_accuracy: 0.7709\n",
      "Epoch 67/200\n",
      "23/23 [==============================] - 0s 9ms/step - loss: 0.3995 - binary_accuracy: 0.8413 - val_loss: 0.6179 - val_binary_accuracy: 0.7430\n"
     ]
    },
    {
     "data": {
      "text/plain": [
       "<keras.callbacks.History at 0x7366403226b0>"
      ]
     },
     "execution_count": 240,
     "metadata": {},
     "output_type": "execute_result"
    }
   ],
   "source": [
    "model.fit(X_train, y_train, epochs=200, validation_data=(X_val, y_val), callbacks=[callback])"
   ]
  },
  {
   "cell_type": "code",
   "execution_count": 241,
   "id": "7263590b-343f-4802-8f28-b777f0d1abea",
   "metadata": {},
   "outputs": [
    {
     "name": "stdout",
     "output_type": "stream",
     "text": [
      "6/6 [==============================] - 0s 3ms/step\n"
     ]
    }
   ],
   "source": [
    "y_pred = model.predict(X_val)"
   ]
  },
  {
   "cell_type": "code",
   "execution_count": 242,
   "id": "0080ed41-2544-41f5-96a8-d6c3cb9d8cd2",
   "metadata": {},
   "outputs": [],
   "source": [
    "for i in range(len(y_pred)):\n",
    "    if y_pred[i][0] < 0.5:\n",
    "        y_pred[i][0] = 0\n",
    "    else:\n",
    "        y_pred[i][0] = 1"
   ]
  },
  {
   "cell_type": "code",
   "execution_count": 243,
   "id": "2e81ca26-d952-4c04-8d77-2cb82b224a0b",
   "metadata": {},
   "outputs": [
    {
     "data": {
      "text/plain": [
       "array([[0.],\n",
       "       [0.],\n",
       "       [1.],\n",
       "       [0.],\n",
       "       [0.]], dtype=float32)"
      ]
     },
     "execution_count": 243,
     "metadata": {},
     "output_type": "execute_result"
    }
   ],
   "source": [
    "y_pred[:5]"
   ]
  },
  {
   "cell_type": "code",
   "execution_count": 235,
   "id": "6da50eb9-1d14-46b9-a332-1d1943e1c74d",
   "metadata": {},
   "outputs": [],
   "source": [
    "from sklearn.metrics import classification_report"
   ]
  },
  {
   "cell_type": "code",
   "execution_count": 244,
   "id": "523ec587-6dcb-4ce0-9c5e-2fda93cb150c",
   "metadata": {},
   "outputs": [
    {
     "name": "stdout",
     "output_type": "stream",
     "text": [
      "              precision    recall  f1-score   support\n",
      "\n",
      "           0       0.78      0.85      0.81       100\n",
      "           1       0.79      0.70      0.74        79\n",
      "\n",
      "    accuracy                           0.78       179\n",
      "   macro avg       0.78      0.77      0.78       179\n",
      "weighted avg       0.78      0.78      0.78       179\n",
      "\n"
     ]
    }
   ],
   "source": [
    "report = classification_report(y_val, y_pred)\n",
    "print(report)\n"
   ]
  },
  {
   "cell_type": "code",
   "execution_count": 245,
   "id": "271e0a6a-e143-46e0-a132-e703977d12d3",
   "metadata": {},
   "outputs": [
    {
     "name": "stdout",
     "output_type": "stream",
     "text": [
      "14/14 [==============================] - 0s 3ms/step\n"
     ]
    },
    {
     "name": "stderr",
     "output_type": "stream",
     "text": [
      "/tmp/ipykernel_10237/33771089.py:5: SettingWithCopyWarning: \n",
      "A value is trying to be set on a copy of a slice from a DataFrame.\n",
      "Try using .loc[row_indexer,col_indexer] = value instead\n",
      "\n",
      "See the caveats in the documentation: https://pandas.pydata.org/pandas-docs/stable/user_guide/indexing.html#returning-a-view-versus-a-copy\n",
      "  submit['PassengerId'] = submit['PassengerId'].astype(int)\n"
     ]
    }
   ],
   "source": [
    "X_test_pred = model.predict(X_test)\n",
    "\n",
    "for i in range(len(X_test_)):\n",
    "    if y_pred[i][0] < 0.5:\n",
    "        y_pred[i][0] = 0\n",
    "    else:\n",
    "        y_pred[i][0] = 1"
   ]
  },
  {
   "cell_type": "code",
   "execution_count": 246,
   "id": "90339160-4a08-41e2-9c2f-098596ec1251",
   "metadata": {},
   "outputs": [
    {
     "data": {
      "text/html": [
       "<div>\n",
       "<style scoped>\n",
       "    .dataframe tbody tr th:only-of-type {\n",
       "        vertical-align: middle;\n",
       "    }\n",
       "\n",
       "    .dataframe tbody tr th {\n",
       "        vertical-align: top;\n",
       "    }\n",
       "\n",
       "    .dataframe thead th {\n",
       "        text-align: right;\n",
       "    }\n",
       "</style>\n",
       "<table border=\"1\" class=\"dataframe\">\n",
       "  <thead>\n",
       "    <tr style=\"text-align: right;\">\n",
       "      <th></th>\n",
       "      <th>PassengerId</th>\n",
       "      <th>Survived</th>\n",
       "    </tr>\n",
       "  </thead>\n",
       "  <tbody>\n",
       "    <tr>\n",
       "      <th>0</th>\n",
       "      <td>892</td>\n",
       "      <td>0.130417</td>\n",
       "    </tr>\n",
       "    <tr>\n",
       "      <th>1</th>\n",
       "      <td>893</td>\n",
       "      <td>0.435971</td>\n",
       "    </tr>\n",
       "    <tr>\n",
       "      <th>2</th>\n",
       "      <td>894</td>\n",
       "      <td>0.177838</td>\n",
       "    </tr>\n",
       "    <tr>\n",
       "      <th>3</th>\n",
       "      <td>895</td>\n",
       "      <td>0.099742</td>\n",
       "    </tr>\n",
       "    <tr>\n",
       "      <th>4</th>\n",
       "      <td>896</td>\n",
       "      <td>0.569117</td>\n",
       "    </tr>\n",
       "    <tr>\n",
       "      <th>...</th>\n",
       "      <td>...</td>\n",
       "      <td>...</td>\n",
       "    </tr>\n",
       "    <tr>\n",
       "      <th>413</th>\n",
       "      <td>1305</td>\n",
       "      <td>0.094641</td>\n",
       "    </tr>\n",
       "    <tr>\n",
       "      <th>414</th>\n",
       "      <td>1306</td>\n",
       "      <td>0.980564</td>\n",
       "    </tr>\n",
       "    <tr>\n",
       "      <th>415</th>\n",
       "      <td>1307</td>\n",
       "      <td>0.090658</td>\n",
       "    </tr>\n",
       "    <tr>\n",
       "      <th>416</th>\n",
       "      <td>1308</td>\n",
       "      <td>0.094641</td>\n",
       "    </tr>\n",
       "    <tr>\n",
       "      <th>417</th>\n",
       "      <td>1309</td>\n",
       "      <td>0.118784</td>\n",
       "    </tr>\n",
       "  </tbody>\n",
       "</table>\n",
       "<p>418 rows × 2 columns</p>\n",
       "</div>"
      ],
      "text/plain": [
       "     PassengerId  Survived\n",
       "0            892  0.130417\n",
       "1            893  0.435971\n",
       "2            894  0.177838\n",
       "3            895  0.099742\n",
       "4            896  0.569117\n",
       "..           ...       ...\n",
       "413         1305  0.094641\n",
       "414         1306  0.980564\n",
       "415         1307  0.090658\n",
       "416         1308  0.094641\n",
       "417         1309  0.118784\n",
       "\n",
       "[418 rows x 2 columns]"
      ]
     },
     "execution_count": 246,
     "metadata": {},
     "output_type": "execute_result"
    }
   ],
   "source": [
    "submit"
   ]
  },
  {
   "cell_type": "code",
   "execution_count": null,
   "id": "daf8fcbc-440f-4d36-ae29-8c89e9c5735e",
   "metadata": {},
   "outputs": [],
   "source": [
    "test_data['Survived'] = X_test_pred\n",
    "submit = test_data[['PassengerId','Survived']]\n",
    "submit['PassengerId'] = submit['PassengerId'].astype(int)\n",
    "submit.to_csv('submission.csv', index=False)"
   ]
  }
 ],
 "metadata": {
  "kernelspec": {
   "display_name": "Python 3 (ipykernel)",
   "language": "python",
   "name": "python3"
  },
  "language_info": {
   "codemirror_mode": {
    "name": "ipython",
    "version": 3
   },
   "file_extension": ".py",
   "mimetype": "text/x-python",
   "name": "python",
   "nbconvert_exporter": "python",
   "pygments_lexer": "ipython3",
   "version": "3.10.13"
  }
 },
 "nbformat": 4,
 "nbformat_minor": 5
}
